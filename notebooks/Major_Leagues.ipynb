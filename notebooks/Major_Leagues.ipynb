{
 "cells": [
  {
   "cell_type": "markdown",
   "metadata": {},
   "source": [
    "# Major Leagues\n",
    "    As a fan of Kobe Bryant, I choose NBA dataset for investigation. For this project, i'm using regression models to predict the score for each team. The models used are: \n",
    "        1. Linear Regression\n",
    "        2. Random Forest \n",
    "        3. Gradient Boosting  "
   ]
  },
  {
   "cell_type": "code",
   "execution_count": 1,
   "metadata": {},
   "outputs": [],
   "source": [
    "# Load libraies\n",
    "import pandas as pd \n",
    "import numpy as np \n",
    "import os\n",
    "import matplotlib.pyplot as plt\n",
    "import seaborn as sns\n",
    "import warnings\n",
    "warnings.filterwarnings('ignore')\n",
    "from sklearn import preprocessing\n",
    "from sklearn.preprocessing import StandardScaler\n",
    "from sklearn.preprocessing import LabelEncoder\n",
    "from sklearn.ensemble import RandomForestRegressor\n",
    "from sklearn.neural_network import MLPRegressor\n",
    "from sklearn.model_selection import train_test_split\n",
    "from sklearn.metrics import accuracy_score\n",
    "from sklearn.preprocessing import minmax_scale"
   ]
  },
  {
   "cell_type": "markdown",
   "metadata": {},
   "source": [
    "# Load Data Frames"
   ]
  },
  {
   "cell_type": "code",
   "execution_count": 2,
   "metadata": {
    "scrolled": true
   },
   "outputs": [
    {
     "name": "stdout",
     "output_type": "stream",
     "text": [
      "(69636, 24)\n"
     ]
    },
    {
     "data": {
      "text/html": [
       "<div>\n",
       "<style scoped>\n",
       "    .dataframe tbody tr th:only-of-type {\n",
       "        vertical-align: middle;\n",
       "    }\n",
       "\n",
       "    .dataframe tbody tr th {\n",
       "        vertical-align: top;\n",
       "    }\n",
       "\n",
       "    .dataframe thead th {\n",
       "        text-align: right;\n",
       "    }\n",
       "</style>\n",
       "<table border=\"1\" class=\"dataframe\">\n",
       "  <thead>\n",
       "    <tr style=\"text-align: right;\">\n",
       "      <th></th>\n",
       "      <th>date</th>\n",
       "      <th>season</th>\n",
       "      <th>neutral</th>\n",
       "      <th>playoff</th>\n",
       "      <th>team1</th>\n",
       "      <th>team2</th>\n",
       "      <th>elo1_pre</th>\n",
       "      <th>elo2_pre</th>\n",
       "      <th>elo_prob1</th>\n",
       "      <th>elo_prob2</th>\n",
       "      <th>...</th>\n",
       "      <th>carm-elo_prob1</th>\n",
       "      <th>carm-elo_prob2</th>\n",
       "      <th>carm-elo1_post</th>\n",
       "      <th>carm-elo2_post</th>\n",
       "      <th>raptor1_pre</th>\n",
       "      <th>raptor2_pre</th>\n",
       "      <th>raptor_prob1</th>\n",
       "      <th>raptor_prob2</th>\n",
       "      <th>score1</th>\n",
       "      <th>score2</th>\n",
       "    </tr>\n",
       "  </thead>\n",
       "  <tbody>\n",
       "    <tr>\n",
       "      <th>0</th>\n",
       "      <td>1946-11-01</td>\n",
       "      <td>1947</td>\n",
       "      <td>0</td>\n",
       "      <td>NaN</td>\n",
       "      <td>TRH</td>\n",
       "      <td>NYK</td>\n",
       "      <td>1300.0</td>\n",
       "      <td>1300.0000</td>\n",
       "      <td>0.640065</td>\n",
       "      <td>0.359935</td>\n",
       "      <td>...</td>\n",
       "      <td>NaN</td>\n",
       "      <td>NaN</td>\n",
       "      <td>NaN</td>\n",
       "      <td>NaN</td>\n",
       "      <td>NaN</td>\n",
       "      <td>NaN</td>\n",
       "      <td>NaN</td>\n",
       "      <td>NaN</td>\n",
       "      <td>66.0</td>\n",
       "      <td>68.0</td>\n",
       "    </tr>\n",
       "    <tr>\n",
       "      <th>1</th>\n",
       "      <td>1946-11-02</td>\n",
       "      <td>1947</td>\n",
       "      <td>0</td>\n",
       "      <td>NaN</td>\n",
       "      <td>CHS</td>\n",
       "      <td>NYK</td>\n",
       "      <td>1300.0</td>\n",
       "      <td>1306.7233</td>\n",
       "      <td>0.631101</td>\n",
       "      <td>0.368899</td>\n",
       "      <td>...</td>\n",
       "      <td>NaN</td>\n",
       "      <td>NaN</td>\n",
       "      <td>NaN</td>\n",
       "      <td>NaN</td>\n",
       "      <td>NaN</td>\n",
       "      <td>NaN</td>\n",
       "      <td>NaN</td>\n",
       "      <td>NaN</td>\n",
       "      <td>63.0</td>\n",
       "      <td>47.0</td>\n",
       "    </tr>\n",
       "    <tr>\n",
       "      <th>2</th>\n",
       "      <td>1946-11-02</td>\n",
       "      <td>1947</td>\n",
       "      <td>0</td>\n",
       "      <td>NaN</td>\n",
       "      <td>PRO</td>\n",
       "      <td>BOS</td>\n",
       "      <td>1300.0</td>\n",
       "      <td>1300.0000</td>\n",
       "      <td>0.640065</td>\n",
       "      <td>0.359935</td>\n",
       "      <td>...</td>\n",
       "      <td>NaN</td>\n",
       "      <td>NaN</td>\n",
       "      <td>NaN</td>\n",
       "      <td>NaN</td>\n",
       "      <td>NaN</td>\n",
       "      <td>NaN</td>\n",
       "      <td>NaN</td>\n",
       "      <td>NaN</td>\n",
       "      <td>59.0</td>\n",
       "      <td>53.0</td>\n",
       "    </tr>\n",
       "    <tr>\n",
       "      <th>3</th>\n",
       "      <td>1946-11-02</td>\n",
       "      <td>1947</td>\n",
       "      <td>0</td>\n",
       "      <td>NaN</td>\n",
       "      <td>STB</td>\n",
       "      <td>PIT</td>\n",
       "      <td>1300.0</td>\n",
       "      <td>1300.0000</td>\n",
       "      <td>0.640065</td>\n",
       "      <td>0.359935</td>\n",
       "      <td>...</td>\n",
       "      <td>NaN</td>\n",
       "      <td>NaN</td>\n",
       "      <td>NaN</td>\n",
       "      <td>NaN</td>\n",
       "      <td>NaN</td>\n",
       "      <td>NaN</td>\n",
       "      <td>NaN</td>\n",
       "      <td>NaN</td>\n",
       "      <td>56.0</td>\n",
       "      <td>51.0</td>\n",
       "    </tr>\n",
       "    <tr>\n",
       "      <th>4</th>\n",
       "      <td>1946-11-02</td>\n",
       "      <td>1947</td>\n",
       "      <td>0</td>\n",
       "      <td>NaN</td>\n",
       "      <td>DTF</td>\n",
       "      <td>WSC</td>\n",
       "      <td>1300.0</td>\n",
       "      <td>1300.0000</td>\n",
       "      <td>0.640065</td>\n",
       "      <td>0.359935</td>\n",
       "      <td>...</td>\n",
       "      <td>NaN</td>\n",
       "      <td>NaN</td>\n",
       "      <td>NaN</td>\n",
       "      <td>NaN</td>\n",
       "      <td>NaN</td>\n",
       "      <td>NaN</td>\n",
       "      <td>NaN</td>\n",
       "      <td>NaN</td>\n",
       "      <td>33.0</td>\n",
       "      <td>50.0</td>\n",
       "    </tr>\n",
       "  </tbody>\n",
       "</table>\n",
       "<p>5 rows × 24 columns</p>\n",
       "</div>"
      ],
      "text/plain": [
       "         date  season  neutral playoff team1 team2  elo1_pre   elo2_pre  \\\n",
       "0  1946-11-01    1947        0     NaN   TRH   NYK    1300.0  1300.0000   \n",
       "1  1946-11-02    1947        0     NaN   CHS   NYK    1300.0  1306.7233   \n",
       "2  1946-11-02    1947        0     NaN   PRO   BOS    1300.0  1300.0000   \n",
       "3  1946-11-02    1947        0     NaN   STB   PIT    1300.0  1300.0000   \n",
       "4  1946-11-02    1947        0     NaN   DTF   WSC    1300.0  1300.0000   \n",
       "\n",
       "   elo_prob1  elo_prob2  ...  carm-elo_prob1  carm-elo_prob2  carm-elo1_post  \\\n",
       "0   0.640065   0.359935  ...             NaN             NaN             NaN   \n",
       "1   0.631101   0.368899  ...             NaN             NaN             NaN   \n",
       "2   0.640065   0.359935  ...             NaN             NaN             NaN   \n",
       "3   0.640065   0.359935  ...             NaN             NaN             NaN   \n",
       "4   0.640065   0.359935  ...             NaN             NaN             NaN   \n",
       "\n",
       "   carm-elo2_post  raptor1_pre  raptor2_pre  raptor_prob1  raptor_prob2  \\\n",
       "0             NaN          NaN          NaN           NaN           NaN   \n",
       "1             NaN          NaN          NaN           NaN           NaN   \n",
       "2             NaN          NaN          NaN           NaN           NaN   \n",
       "3             NaN          NaN          NaN           NaN           NaN   \n",
       "4             NaN          NaN          NaN           NaN           NaN   \n",
       "\n",
       "   score1  score2  \n",
       "0    66.0    68.0  \n",
       "1    63.0    47.0  \n",
       "2    59.0    53.0  \n",
       "3    56.0    51.0  \n",
       "4    33.0    50.0  \n",
       "\n",
       "[5 rows x 24 columns]"
      ]
     },
     "execution_count": 2,
     "metadata": {},
     "output_type": "execute_result"
    }
   ],
   "source": [
    "#load Raw Data\n",
    "data_NBA = pd.read_csv(\"../data/nba_elo.csv\",encoding ='latin' ,low_memory =False)\n",
    "print(data_NBA.shape)\n",
    "data_NBA.head(5)"
   ]
  },
  {
   "cell_type": "code",
   "execution_count": 3,
   "metadata": {},
   "outputs": [
    {
     "data": {
      "text/plain": [
       "Index(['date', 'season', 'neutral', 'playoff', 'team1', 'team2', 'elo1_pre',\n",
       "       'elo2_pre', 'elo_prob1', 'elo_prob2', 'elo1_post', 'elo2_post',\n",
       "       'carm-elo1_pre', 'carm-elo2_pre', 'carm-elo_prob1', 'carm-elo_prob2',\n",
       "       'carm-elo1_post', 'carm-elo2_post', 'raptor1_pre', 'raptor2_pre',\n",
       "       'raptor_prob1', 'raptor_prob2', 'score1', 'score2'],\n",
       "      dtype='object')"
      ]
     },
     "execution_count": 3,
     "metadata": {},
     "output_type": "execute_result"
    }
   ],
   "source": [
    "data_NBA.columns"
   ]
  },
  {
   "cell_type": "markdown",
   "metadata": {},
   "source": [
    "\n"
   ]
  },
  {
   "cell_type": "code",
   "execution_count": 4,
   "metadata": {},
   "outputs": [],
   "source": [
    "# Column carm-elo1_pre, carm-elo2_pre, carm-elo_prob1, carm-elo_prob2, carm-elo1_post, carm-elo2_post, raptor1_pre, raptor2_pre, raptor_prob1, raptor_prob1 are empty, should be dropped.\n",
    "data_NBA = data_NBA.drop(columns = ['playoff','elo1_post','elo2_post','carm-elo1_pre','carm-elo2_pre','carm-elo_prob1','carm-elo_prob2','carm-elo1_post','carm-elo2_post', 'raptor1_pre', 'raptor2_pre',\n",
    "       'raptor_prob1', 'raptor_prob2'])"
   ]
  },
  {
   "cell_type": "code",
   "execution_count": 5,
   "metadata": {},
   "outputs": [],
   "source": [
    "object = LabelEncoder()\n",
    "data_NBA['team1'] = object.fit_transform(data_NBA['team1'].astype('str'))\n",
    "data_NBA['team2'] = object.fit_transform(data_NBA['team1'].astype('str'))\n",
    "data_NBA  = data_NBA.drop(columns = ['date'])"
   ]
  },
  {
   "cell_type": "code",
   "execution_count": 6,
   "metadata": {},
   "outputs": [
    {
     "data": {
      "text/plain": [
       "<matplotlib.axes._subplots.AxesSubplot at 0x12195b990>"
      ]
     },
     "execution_count": 6,
     "metadata": {},
     "output_type": "execute_result"
    },
    {
     "data": {
      "image/png": "[encoded data removed]",
      "text/plain": [
       "<Figure size 1080x1080 with 2 Axes>"
      ]
     },
     "metadata": {
      "needs_background": "light"
     },
     "output_type": "display_data"
    }
   ],
   "source": [
    "pearsoncorr = data_NBA.corr(method='pearson')\n",
    "plt.figure(figsize=(15,15))\n",
    "sns.heatmap(pearsoncorr, \n",
    "            xticklabels=pearsoncorr.columns,\n",
    "            yticklabels=pearsoncorr.columns,\n",
    "            cmap='RdBu_r',\n",
    "            annot=True,\n",
    "            linewidth=0.5)"
   ]
  },
  {
   "cell_type": "code",
   "execution_count": 7,
   "metadata": {},
   "outputs": [],
   "source": [
    "data_NBA = data_NBA.dropna()"
   ]
  },
  {
   "cell_type": "markdown",
   "metadata": {},
   "source": [
    "# Process the dataframe\n",
    "    1. Normalize features\n",
    "    2. Split training set and testing set"
   ]
  },
  {
   "cell_type": "code",
   "execution_count": 9,
   "metadata": {},
   "outputs": [
    {
     "data": {
      "text/html": [
       "<div>\n",
       "<style scoped>\n",
       "    .dataframe tbody tr th:only-of-type {\n",
       "        vertical-align: middle;\n",
       "    }\n",
       "\n",
       "    .dataframe tbody tr th {\n",
       "        vertical-align: top;\n",
       "    }\n",
       "\n",
       "    .dataframe thead th {\n",
       "        text-align: right;\n",
       "    }\n",
       "</style>\n",
       "<table border=\"1\" class=\"dataframe\">\n",
       "  <thead>\n",
       "    <tr style=\"text-align: right;\">\n",
       "      <th></th>\n",
       "      <th>season</th>\n",
       "      <th>team1</th>\n",
       "      <th>team2</th>\n",
       "      <th>elo1_pre</th>\n",
       "      <th>elo2_pre</th>\n",
       "      <th>elo_prob1</th>\n",
       "      <th>elo_prob2</th>\n",
       "    </tr>\n",
       "  </thead>\n",
       "  <tbody>\n",
       "    <tr>\n",
       "      <th>0</th>\n",
       "      <td>1947</td>\n",
       "      <td>91</td>\n",
       "      <td>93</td>\n",
       "      <td>1300.0</td>\n",
       "      <td>1300.0000</td>\n",
       "      <td>0.640065</td>\n",
       "      <td>0.359935</td>\n",
       "    </tr>\n",
       "    <tr>\n",
       "      <th>1</th>\n",
       "      <td>1947</td>\n",
       "      <td>14</td>\n",
       "      <td>8</td>\n",
       "      <td>1300.0</td>\n",
       "      <td>1306.7233</td>\n",
       "      <td>0.631101</td>\n",
       "      <td>0.368899</td>\n",
       "    </tr>\n",
       "    <tr>\n",
       "      <th>2</th>\n",
       "      <td>1947</td>\n",
       "      <td>71</td>\n",
       "      <td>71</td>\n",
       "      <td>1300.0</td>\n",
       "      <td>1300.0000</td>\n",
       "      <td>0.640065</td>\n",
       "      <td>0.359935</td>\n",
       "    </tr>\n",
       "    <tr>\n",
       "      <th>3</th>\n",
       "      <td>1947</td>\n",
       "      <td>86</td>\n",
       "      <td>87</td>\n",
       "      <td>1300.0</td>\n",
       "      <td>1300.0000</td>\n",
       "      <td>0.640065</td>\n",
       "      <td>0.359935</td>\n",
       "    </tr>\n",
       "    <tr>\n",
       "      <th>4</th>\n",
       "      <td>1947</td>\n",
       "      <td>26</td>\n",
       "      <td>21</td>\n",
       "      <td>1300.0</td>\n",
       "      <td>1300.0000</td>\n",
       "      <td>0.640065</td>\n",
       "      <td>0.359935</td>\n",
       "    </tr>\n",
       "  </tbody>\n",
       "</table>\n",
       "</div>"
      ],
      "text/plain": [
       "   season  team1  team2  elo1_pre   elo2_pre  elo_prob1  elo_prob2\n",
       "0    1947     91     93    1300.0  1300.0000   0.640065   0.359935\n",
       "1    1947     14      8    1300.0  1306.7233   0.631101   0.368899\n",
       "2    1947     71     71    1300.0  1300.0000   0.640065   0.359935\n",
       "3    1947     86     87    1300.0  1300.0000   0.640065   0.359935\n",
       "4    1947     26     21    1300.0  1300.0000   0.640065   0.359935"
      ]
     },
     "execution_count": 9,
     "metadata": {},
     "output_type": "execute_result"
    }
   ],
   "source": [
    "Y = pd.DataFrame(data_NBA[['score1','score2']])\n",
    "scaler = StandardScaler()\n",
    "features = ['season','team1','team2','elo1_pre','elo2_pre','elo_prob1','elo_prob2']\n",
    "X = pd.DataFrame(data_NBA[features])\n",
    "scaler.fit(X)\n",
    "X.head(5)"
   ]
  },
  {
   "cell_type": "code",
   "execution_count": 10,
   "metadata": {},
   "outputs": [],
   "source": [
    "X_train, X_test, y_train, y_test = train_test_split(X, Y, test_size=0.2, random_state = 27)\n",
    "Result = pd.DataFrame(y_test)"
   ]
  },
  {
   "cell_type": "code",
   "execution_count": 11,
   "metadata": {},
   "outputs": [],
   "source": [
    "X_train = scaler.transform(X_train)\n",
    "X_test = scaler.transform(X_test)"
   ]
  },
  {
   "cell_type": "code",
   "execution_count": 12,
   "metadata": {},
   "outputs": [],
   "source": [
    "y_train1 = y_train['score1']\n",
    "y_train2 = y_train['score2']\n",
    "y_test1 =  y_test['score1']\n",
    "y_test2 =  y_test['score2']"
   ]
  },
  {
   "cell_type": "code",
   "execution_count": 13,
   "metadata": {},
   "outputs": [
    {
     "data": {
      "text/plain": [
       "(13757, 7)"
      ]
     },
     "execution_count": 13,
     "metadata": {},
     "output_type": "execute_result"
    }
   ],
   "source": [
    "X_test.shape"
   ]
  },
  {
   "cell_type": "markdown",
   "metadata": {},
   "source": [
    "# linear Regression\n",
    "    Using mean squared error to measure the regression model. "
   ]
  },
  {
   "cell_type": "code",
   "execution_count": 14,
   "metadata": {},
   "outputs": [
    {
     "name": "stdout",
     "output_type": "stream",
     "text": [
      "train error for score1: 208.92550826288598\n",
      "test error for score1: 211.78215825261185\n",
      "train error for score2: 198.35454802025413\n",
      "test error score2: 194.91435345162006\n"
     ]
    }
   ],
   "source": [
    "from sklearn.linear_model import LinearRegression\n",
    "from sklearn.metrics import mean_squared_error\n",
    "#since the result for regression both score1 and score is way too bad, i'll regression score1 and score2 seperately.\n",
    "# The reason could be, the accuracy for predict score1 or score2 could be 60%, the accuracy to regress them together could be less than 36%.\n",
    "# Create a dataframe for score. \n",
    "\n",
    "reg1 = LinearRegression().fit(X_train, y_train1)\n",
    "reg2 = LinearRegression().fit(X_train, y_train2)\n",
    "\n",
    "reg_train1 = reg1.predict(X_train) \n",
    "reg_test1 = reg1.predict(X_test)\n",
    "\n",
    "reg_train2 = reg2.predict(X_train) \n",
    "reg_test2 = reg2.predict(X_test)\n",
    "\n",
    "from sklearn.metrics import mean_squared_error\n",
    "print('train error for score1: ' + str(mean_squared_error(y_train1, reg_train1)))\n",
    "print('test error for score1: ' + str(mean_squared_error(y_test1, reg_test1)))\n",
    "\n",
    "print('train error for score2: ' + str(mean_squared_error(y_train2, reg_train2)))\n",
    "print('test error score2: ' + str(mean_squared_error(y_test2, reg_test2)))"
   ]
  },
  {
   "cell_type": "code",
   "execution_count": 15,
   "metadata": {},
   "outputs": [],
   "source": [
    "Result[\"LR_1\"] = reg_test1\n",
    "Result[\"LR_2\"] = reg_test2"
   ]
  },
  {
   "cell_type": "code",
   "execution_count": 16,
   "metadata": {},
   "outputs": [
    {
     "data": {
      "text/html": [
       "<div>\n",
       "<style scoped>\n",
       "    .dataframe tbody tr th:only-of-type {\n",
       "        vertical-align: middle;\n",
       "    }\n",
       "\n",
       "    .dataframe tbody tr th {\n",
       "        vertical-align: top;\n",
       "    }\n",
       "\n",
       "    .dataframe thead th {\n",
       "        text-align: right;\n",
       "    }\n",
       "</style>\n",
       "<table border=\"1\" class=\"dataframe\">\n",
       "  <thead>\n",
       "    <tr style=\"text-align: right;\">\n",
       "      <th></th>\n",
       "      <th>score1</th>\n",
       "      <th>score2</th>\n",
       "      <th>LR_1</th>\n",
       "      <th>LR_2</th>\n",
       "    </tr>\n",
       "  </thead>\n",
       "  <tbody>\n",
       "    <tr>\n",
       "      <th>27060</th>\n",
       "      <td>107.0</td>\n",
       "      <td>83.0</td>\n",
       "      <td>105.354596</td>\n",
       "      <td>102.070280</td>\n",
       "    </tr>\n",
       "    <tr>\n",
       "      <th>31624</th>\n",
       "      <td>120.0</td>\n",
       "      <td>101.0</td>\n",
       "      <td>105.718838</td>\n",
       "      <td>99.302433</td>\n",
       "    </tr>\n",
       "    <tr>\n",
       "      <th>43344</th>\n",
       "      <td>103.0</td>\n",
       "      <td>91.0</td>\n",
       "      <td>106.982531</td>\n",
       "      <td>98.717090</td>\n",
       "    </tr>\n",
       "    <tr>\n",
       "      <th>14684</th>\n",
       "      <td>102.0</td>\n",
       "      <td>104.0</td>\n",
       "      <td>105.469204</td>\n",
       "      <td>101.999830</td>\n",
       "    </tr>\n",
       "    <tr>\n",
       "      <th>42965</th>\n",
       "      <td>89.0</td>\n",
       "      <td>92.0</td>\n",
       "      <td>100.900955</td>\n",
       "      <td>103.975087</td>\n",
       "    </tr>\n",
       "    <tr>\n",
       "      <th>16523</th>\n",
       "      <td>110.0</td>\n",
       "      <td>100.0</td>\n",
       "      <td>111.688154</td>\n",
       "      <td>100.766816</td>\n",
       "    </tr>\n",
       "    <tr>\n",
       "      <th>29973</th>\n",
       "      <td>106.0</td>\n",
       "      <td>112.0</td>\n",
       "      <td>104.040240</td>\n",
       "      <td>100.851771</td>\n",
       "    </tr>\n",
       "    <tr>\n",
       "      <th>49244</th>\n",
       "      <td>86.0</td>\n",
       "      <td>92.0</td>\n",
       "      <td>104.346471</td>\n",
       "      <td>99.887605</td>\n",
       "    </tr>\n",
       "    <tr>\n",
       "      <th>41036</th>\n",
       "      <td>116.0</td>\n",
       "      <td>109.0</td>\n",
       "      <td>107.623076</td>\n",
       "      <td>97.167794</td>\n",
       "    </tr>\n",
       "    <tr>\n",
       "      <th>68430</th>\n",
       "      <td>95.0</td>\n",
       "      <td>86.0</td>\n",
       "      <td>100.217918</td>\n",
       "      <td>101.898396</td>\n",
       "    </tr>\n",
       "  </tbody>\n",
       "</table>\n",
       "</div>"
      ],
      "text/plain": [
       "       score1  score2        LR_1        LR_2\n",
       "27060   107.0    83.0  105.354596  102.070280\n",
       "31624   120.0   101.0  105.718838   99.302433\n",
       "43344   103.0    91.0  106.982531   98.717090\n",
       "14684   102.0   104.0  105.469204  101.999830\n",
       "42965    89.0    92.0  100.900955  103.975087\n",
       "16523   110.0   100.0  111.688154  100.766816\n",
       "29973   106.0   112.0  104.040240  100.851771\n",
       "49244    86.0    92.0  104.346471   99.887605\n",
       "41036   116.0   109.0  107.623076   97.167794\n",
       "68430    95.0    86.0  100.217918  101.898396"
      ]
     },
     "execution_count": 16,
     "metadata": {},
     "output_type": "execute_result"
    }
   ],
   "source": [
    "Result.head(10)"
   ]
  },
  {
   "cell_type": "markdown",
   "metadata": {},
   "source": [
    "# Random Forest"
   ]
  },
  {
   "cell_type": "code",
   "execution_count": 17,
   "metadata": {},
   "outputs": [
    {
     "name": "stdout",
     "output_type": "stream",
     "text": [
      "train error for score1: 20.340113709384312\n",
      "test error for score1: 151.50147794577305\n",
      "train error for score2: 19.143511972086934\n",
      "test error score2: 136.5263293959439\n"
     ]
    }
   ],
   "source": [
    "reg1 = RandomForestRegressor(n_estimators=100).fit(X_train, y_train1)\n",
    "reg2 = RandomForestRegressor(n_estimators=100).fit(X_train, y_train2)\n",
    "\n",
    "reg_train1 = reg1.predict(X_train) \n",
    "reg_test1 = reg1.predict(X_test)\n",
    "\n",
    "reg_train2 = reg2.predict(X_train) \n",
    "reg_test2 = reg2.predict(X_test)\n",
    "\n",
    "from sklearn.metrics import mean_squared_error\n",
    "print('train error for score1: ' + str(mean_squared_error(y_train1, reg_train1)))\n",
    "print('test error for score1: ' + str(mean_squared_error(y_test1, reg_test1)))\n",
    "\n",
    "print('train error for score2: ' + str(mean_squared_error(y_train2, reg_train2)))\n",
    "print('test error score2: ' + str(mean_squared_error(y_test2, reg_test2)))"
   ]
  },
  {
   "cell_type": "code",
   "execution_count": 18,
   "metadata": {},
   "outputs": [],
   "source": [
    "Result[\"RDF_1\"] = reg_test1\n",
    "Result[\"RDF_2\"] = reg_test2"
   ]
  },
  {
   "cell_type": "code",
   "execution_count": 19,
   "metadata": {},
   "outputs": [
    {
     "data": {
      "text/html": [
       "<div>\n",
       "<style scoped>\n",
       "    .dataframe tbody tr th:only-of-type {\n",
       "        vertical-align: middle;\n",
       "    }\n",
       "\n",
       "    .dataframe tbody tr th {\n",
       "        vertical-align: top;\n",
       "    }\n",
       "\n",
       "    .dataframe thead th {\n",
       "        text-align: right;\n",
       "    }\n",
       "</style>\n",
       "<table border=\"1\" class=\"dataframe\">\n",
       "  <thead>\n",
       "    <tr style=\"text-align: right;\">\n",
       "      <th></th>\n",
       "      <th>score1</th>\n",
       "      <th>score2</th>\n",
       "      <th>LR_1</th>\n",
       "      <th>LR_2</th>\n",
       "      <th>RDF_1</th>\n",
       "      <th>RDF_2</th>\n",
       "    </tr>\n",
       "  </thead>\n",
       "  <tbody>\n",
       "    <tr>\n",
       "      <th>27060</th>\n",
       "      <td>107.0</td>\n",
       "      <td>83.0</td>\n",
       "      <td>105.354596</td>\n",
       "      <td>102.070280</td>\n",
       "      <td>108.21</td>\n",
       "      <td>100.11</td>\n",
       "    </tr>\n",
       "    <tr>\n",
       "      <th>31624</th>\n",
       "      <td>120.0</td>\n",
       "      <td>101.0</td>\n",
       "      <td>105.718838</td>\n",
       "      <td>99.302433</td>\n",
       "      <td>110.46</td>\n",
       "      <td>103.19</td>\n",
       "    </tr>\n",
       "    <tr>\n",
       "      <th>43344</th>\n",
       "      <td>103.0</td>\n",
       "      <td>91.0</td>\n",
       "      <td>106.982531</td>\n",
       "      <td>98.717090</td>\n",
       "      <td>106.06</td>\n",
       "      <td>98.67</td>\n",
       "    </tr>\n",
       "    <tr>\n",
       "      <th>14684</th>\n",
       "      <td>102.0</td>\n",
       "      <td>104.0</td>\n",
       "      <td>105.469204</td>\n",
       "      <td>101.999830</td>\n",
       "      <td>99.42</td>\n",
       "      <td>94.96</td>\n",
       "    </tr>\n",
       "    <tr>\n",
       "      <th>42965</th>\n",
       "      <td>89.0</td>\n",
       "      <td>92.0</td>\n",
       "      <td>100.900955</td>\n",
       "      <td>103.975087</td>\n",
       "      <td>97.74</td>\n",
       "      <td>98.92</td>\n",
       "    </tr>\n",
       "    <tr>\n",
       "      <th>16523</th>\n",
       "      <td>110.0</td>\n",
       "      <td>100.0</td>\n",
       "      <td>111.688154</td>\n",
       "      <td>100.766816</td>\n",
       "      <td>115.92</td>\n",
       "      <td>106.42</td>\n",
       "    </tr>\n",
       "    <tr>\n",
       "      <th>29973</th>\n",
       "      <td>106.0</td>\n",
       "      <td>112.0</td>\n",
       "      <td>104.040240</td>\n",
       "      <td>100.851771</td>\n",
       "      <td>116.50</td>\n",
       "      <td>110.42</td>\n",
       "    </tr>\n",
       "    <tr>\n",
       "      <th>49244</th>\n",
       "      <td>86.0</td>\n",
       "      <td>92.0</td>\n",
       "      <td>104.346471</td>\n",
       "      <td>99.887605</td>\n",
       "      <td>102.02</td>\n",
       "      <td>95.18</td>\n",
       "    </tr>\n",
       "    <tr>\n",
       "      <th>41036</th>\n",
       "      <td>116.0</td>\n",
       "      <td>109.0</td>\n",
       "      <td>107.623076</td>\n",
       "      <td>97.167794</td>\n",
       "      <td>106.55</td>\n",
       "      <td>97.48</td>\n",
       "    </tr>\n",
       "    <tr>\n",
       "      <th>68430</th>\n",
       "      <td>95.0</td>\n",
       "      <td>86.0</td>\n",
       "      <td>100.217918</td>\n",
       "      <td>101.898396</td>\n",
       "      <td>105.60</td>\n",
       "      <td>107.15</td>\n",
       "    </tr>\n",
       "  </tbody>\n",
       "</table>\n",
       "</div>"
      ],
      "text/plain": [
       "       score1  score2        LR_1        LR_2   RDF_1   RDF_2\n",
       "27060   107.0    83.0  105.354596  102.070280  108.21  100.11\n",
       "31624   120.0   101.0  105.718838   99.302433  110.46  103.19\n",
       "43344   103.0    91.0  106.982531   98.717090  106.06   98.67\n",
       "14684   102.0   104.0  105.469204  101.999830   99.42   94.96\n",
       "42965    89.0    92.0  100.900955  103.975087   97.74   98.92\n",
       "16523   110.0   100.0  111.688154  100.766816  115.92  106.42\n",
       "29973   106.0   112.0  104.040240  100.851771  116.50  110.42\n",
       "49244    86.0    92.0  104.346471   99.887605  102.02   95.18\n",
       "41036   116.0   109.0  107.623076   97.167794  106.55   97.48\n",
       "68430    95.0    86.0  100.217918  101.898396  105.60  107.15"
      ]
     },
     "execution_count": 19,
     "metadata": {},
     "output_type": "execute_result"
    }
   ],
   "source": [
    "Result.head(10)"
   ]
  },
  {
   "cell_type": "markdown",
   "metadata": {},
   "source": [
    "# Gradient Boosting"
   ]
  },
  {
   "cell_type": "code",
   "execution_count": 20,
   "metadata": {},
   "outputs": [
    {
     "name": "stdout",
     "output_type": "stream",
     "text": [
      "train error for score1: 138.90074855385222\n",
      "test error for score1: 145.9000840990876\n",
      "train error for score2: 131.2233383165661\n",
      "test error score2: 131.96551309252195\n"
     ]
    }
   ],
   "source": [
    "from sklearn.ensemble import GradientBoostingRegressor\n",
    "reg1 = GradientBoostingRegressor().fit(X_train, y_train1)\n",
    "reg2 = GradientBoostingRegressor().fit(X_train, y_train2)\n",
    "\n",
    "reg_train1 = reg1.predict(X_train) \n",
    "reg_test1 = reg1.predict(X_test)\n",
    "\n",
    "reg_train2 = reg2.predict(X_train) \n",
    "reg_test2 = reg2.predict(X_test)\n",
    "\n",
    "from sklearn.metrics import mean_squared_error\n",
    "print('train error for score1: ' + str(mean_squared_error(y_train1, reg_train1)))\n",
    "print('test error for score1: ' + str(mean_squared_error(y_test1, reg_test1)))\n",
    "\n",
    "print('train error for score2: ' + str(mean_squared_error(y_train2, reg_train2)))\n",
    "print('test error score2: ' + str(mean_squared_error(y_test2, reg_test2)))"
   ]
  },
  {
   "cell_type": "code",
   "execution_count": 21,
   "metadata": {},
   "outputs": [],
   "source": [
    "Result[\"GB_1\"] = reg_test1\n",
    "Result[\"GB_2\"] = reg_test2"
   ]
  },
  {
   "cell_type": "code",
   "execution_count": 22,
   "metadata": {},
   "outputs": [
    {
     "data": {
      "text/html": [
       "<div>\n",
       "<style scoped>\n",
       "    .dataframe tbody tr th:only-of-type {\n",
       "        vertical-align: middle;\n",
       "    }\n",
       "\n",
       "    .dataframe tbody tr th {\n",
       "        vertical-align: top;\n",
       "    }\n",
       "\n",
       "    .dataframe thead th {\n",
       "        text-align: right;\n",
       "    }\n",
       "</style>\n",
       "<table border=\"1\" class=\"dataframe\">\n",
       "  <thead>\n",
       "    <tr style=\"text-align: right;\">\n",
       "      <th></th>\n",
       "      <th>score1</th>\n",
       "      <th>score2</th>\n",
       "      <th>LR_1</th>\n",
       "      <th>LR_2</th>\n",
       "      <th>RDF_1</th>\n",
       "      <th>RDF_2</th>\n",
       "      <th>GB_1</th>\n",
       "      <th>GB_2</th>\n",
       "    </tr>\n",
       "  </thead>\n",
       "  <tbody>\n",
       "    <tr>\n",
       "      <th>27060</th>\n",
       "      <td>107.0</td>\n",
       "      <td>83.0</td>\n",
       "      <td>105.354596</td>\n",
       "      <td>102.070280</td>\n",
       "      <td>108.21</td>\n",
       "      <td>100.11</td>\n",
       "      <td>110.658651</td>\n",
       "      <td>106.516508</td>\n",
       "    </tr>\n",
       "    <tr>\n",
       "      <th>31624</th>\n",
       "      <td>120.0</td>\n",
       "      <td>101.0</td>\n",
       "      <td>105.718838</td>\n",
       "      <td>99.302433</td>\n",
       "      <td>110.46</td>\n",
       "      <td>103.19</td>\n",
       "      <td>111.348433</td>\n",
       "      <td>104.516898</td>\n",
       "    </tr>\n",
       "    <tr>\n",
       "      <th>43344</th>\n",
       "      <td>103.0</td>\n",
       "      <td>91.0</td>\n",
       "      <td>106.982531</td>\n",
       "      <td>98.717090</td>\n",
       "      <td>106.06</td>\n",
       "      <td>98.67</td>\n",
       "      <td>98.937965</td>\n",
       "      <td>91.618694</td>\n",
       "    </tr>\n",
       "    <tr>\n",
       "      <th>14684</th>\n",
       "      <td>102.0</td>\n",
       "      <td>104.0</td>\n",
       "      <td>105.469204</td>\n",
       "      <td>101.999830</td>\n",
       "      <td>99.42</td>\n",
       "      <td>94.96</td>\n",
       "      <td>107.782552</td>\n",
       "      <td>104.650581</td>\n",
       "    </tr>\n",
       "    <tr>\n",
       "      <th>42965</th>\n",
       "      <td>89.0</td>\n",
       "      <td>92.0</td>\n",
       "      <td>100.900955</td>\n",
       "      <td>103.975087</td>\n",
       "      <td>97.74</td>\n",
       "      <td>98.92</td>\n",
       "      <td>95.655964</td>\n",
       "      <td>98.265596</td>\n",
       "    </tr>\n",
       "    <tr>\n",
       "      <th>16523</th>\n",
       "      <td>110.0</td>\n",
       "      <td>100.0</td>\n",
       "      <td>111.688154</td>\n",
       "      <td>100.766816</td>\n",
       "      <td>115.92</td>\n",
       "      <td>106.42</td>\n",
       "      <td>112.938784</td>\n",
       "      <td>103.795016</td>\n",
       "    </tr>\n",
       "    <tr>\n",
       "      <th>29973</th>\n",
       "      <td>106.0</td>\n",
       "      <td>112.0</td>\n",
       "      <td>104.040240</td>\n",
       "      <td>100.851771</td>\n",
       "      <td>116.50</td>\n",
       "      <td>110.42</td>\n",
       "      <td>110.759002</td>\n",
       "      <td>105.759683</td>\n",
       "    </tr>\n",
       "    <tr>\n",
       "      <th>49244</th>\n",
       "      <td>86.0</td>\n",
       "      <td>92.0</td>\n",
       "      <td>104.346471</td>\n",
       "      <td>99.887605</td>\n",
       "      <td>102.02</td>\n",
       "      <td>95.18</td>\n",
       "      <td>98.156752</td>\n",
       "      <td>94.317449</td>\n",
       "    </tr>\n",
       "    <tr>\n",
       "      <th>41036</th>\n",
       "      <td>116.0</td>\n",
       "      <td>109.0</td>\n",
       "      <td>107.623076</td>\n",
       "      <td>97.167794</td>\n",
       "      <td>106.55</td>\n",
       "      <td>97.48</td>\n",
       "      <td>101.613075</td>\n",
       "      <td>90.620865</td>\n",
       "    </tr>\n",
       "    <tr>\n",
       "      <th>68430</th>\n",
       "      <td>95.0</td>\n",
       "      <td>86.0</td>\n",
       "      <td>100.217918</td>\n",
       "      <td>101.898396</td>\n",
       "      <td>105.60</td>\n",
       "      <td>107.15</td>\n",
       "      <td>108.837081</td>\n",
       "      <td>110.327926</td>\n",
       "    </tr>\n",
       "  </tbody>\n",
       "</table>\n",
       "</div>"
      ],
      "text/plain": [
       "       score1  score2        LR_1        LR_2   RDF_1   RDF_2        GB_1  \\\n",
       "27060   107.0    83.0  105.354596  102.070280  108.21  100.11  110.658651   \n",
       "31624   120.0   101.0  105.718838   99.302433  110.46  103.19  111.348433   \n",
       "43344   103.0    91.0  106.982531   98.717090  106.06   98.67   98.937965   \n",
       "14684   102.0   104.0  105.469204  101.999830   99.42   94.96  107.782552   \n",
       "42965    89.0    92.0  100.900955  103.975087   97.74   98.92   95.655964   \n",
       "16523   110.0   100.0  111.688154  100.766816  115.92  106.42  112.938784   \n",
       "29973   106.0   112.0  104.040240  100.851771  116.50  110.42  110.759002   \n",
       "49244    86.0    92.0  104.346471   99.887605  102.02   95.18   98.156752   \n",
       "41036   116.0   109.0  107.623076   97.167794  106.55   97.48  101.613075   \n",
       "68430    95.0    86.0  100.217918  101.898396  105.60  107.15  108.837081   \n",
       "\n",
       "             GB_2  \n",
       "27060  106.516508  \n",
       "31624  104.516898  \n",
       "43344   91.618694  \n",
       "14684  104.650581  \n",
       "42965   98.265596  \n",
       "16523  103.795016  \n",
       "29973  105.759683  \n",
       "49244   94.317449  \n",
       "41036   90.620865  \n",
       "68430  110.327926  "
      ]
     },
     "execution_count": 22,
     "metadata": {},
     "output_type": "execute_result"
    }
   ],
   "source": [
    "Result.head(10)"
   ]
  },
  {
   "cell_type": "markdown",
   "metadata": {},
   "source": [
    "# Visualize the result\n",
    "    Comparing to plot the ground truth scores and the predicted scores, the absolute difference of the ground truth and the predicted values could be more clear to view. \n",
    "        1. Absolute error of the predicted values using various models for score1\n",
    "        2. Absolute error of the predicted values using various models for score2"
   ]
  },
  {
   "cell_type": "code",
   "execution_count": 23,
   "metadata": {},
   "outputs": [],
   "source": [
    "Score_1 = pd.DataFrame(Result[['score1','LR_1','RDF_1','GB_1']])\n",
    "Score_2 = pd.DataFrame(Result[['score2','LR_2','RDF_2','GB_2']])\n",
    "\n",
    "Score_1['LR_error'] = abs(Score_1.score1 - Score_1.LR_1)\n",
    "Score_1['RDF_error'] = abs(Score_1.score1 - Score_1.RDF_1)\n",
    "Score_1['GB_error'] = abs(Score_1.score1 - Score_1.GB_1)\n",
    "\n",
    "Score_2['LR_error'] = abs(Score_2.score2 - Score_2.LR_2)\n",
    "Score_2['RDF_error'] = abs(Score_2.score2 - Score_2.RDF_2)\n",
    "Score_2['GB_error'] = abs(Score_2.score2 - Score_2.GB_2)"
   ]
  },
  {
   "cell_type": "code",
   "execution_count": 24,
   "metadata": {},
   "outputs": [
    {
     "data": {
      "text/html": [
       "<div>\n",
       "<style scoped>\n",
       "    .dataframe tbody tr th:only-of-type {\n",
       "        vertical-align: middle;\n",
       "    }\n",
       "\n",
       "    .dataframe tbody tr th {\n",
       "        vertical-align: top;\n",
       "    }\n",
       "\n",
       "    .dataframe thead th {\n",
       "        text-align: right;\n",
       "    }\n",
       "</style>\n",
       "<table border=\"1\" class=\"dataframe\">\n",
       "  <thead>\n",
       "    <tr style=\"text-align: right;\">\n",
       "      <th></th>\n",
       "      <th>score1</th>\n",
       "      <th>LR_1</th>\n",
       "      <th>RDF_1</th>\n",
       "      <th>GB_1</th>\n",
       "      <th>LR_error</th>\n",
       "      <th>RDF_error</th>\n",
       "      <th>GB_error</th>\n",
       "    </tr>\n",
       "  </thead>\n",
       "  <tbody>\n",
       "    <tr>\n",
       "      <th>27060</th>\n",
       "      <td>107.0</td>\n",
       "      <td>105.354596</td>\n",
       "      <td>108.21</td>\n",
       "      <td>110.658651</td>\n",
       "      <td>1.645404</td>\n",
       "      <td>1.21</td>\n",
       "      <td>3.658651</td>\n",
       "    </tr>\n",
       "    <tr>\n",
       "      <th>31624</th>\n",
       "      <td>120.0</td>\n",
       "      <td>105.718838</td>\n",
       "      <td>110.46</td>\n",
       "      <td>111.348433</td>\n",
       "      <td>14.281162</td>\n",
       "      <td>9.54</td>\n",
       "      <td>8.651567</td>\n",
       "    </tr>\n",
       "    <tr>\n",
       "      <th>43344</th>\n",
       "      <td>103.0</td>\n",
       "      <td>106.982531</td>\n",
       "      <td>106.06</td>\n",
       "      <td>98.937965</td>\n",
       "      <td>3.982531</td>\n",
       "      <td>3.06</td>\n",
       "      <td>4.062035</td>\n",
       "    </tr>\n",
       "    <tr>\n",
       "      <th>14684</th>\n",
       "      <td>102.0</td>\n",
       "      <td>105.469204</td>\n",
       "      <td>99.42</td>\n",
       "      <td>107.782552</td>\n",
       "      <td>3.469204</td>\n",
       "      <td>2.58</td>\n",
       "      <td>5.782552</td>\n",
       "    </tr>\n",
       "    <tr>\n",
       "      <th>42965</th>\n",
       "      <td>89.0</td>\n",
       "      <td>100.900955</td>\n",
       "      <td>97.74</td>\n",
       "      <td>95.655964</td>\n",
       "      <td>11.900955</td>\n",
       "      <td>8.74</td>\n",
       "      <td>6.655964</td>\n",
       "    </tr>\n",
       "  </tbody>\n",
       "</table>\n",
       "</div>"
      ],
      "text/plain": [
       "       score1        LR_1   RDF_1        GB_1   LR_error  RDF_error  GB_error\n",
       "27060   107.0  105.354596  108.21  110.658651   1.645404       1.21  3.658651\n",
       "31624   120.0  105.718838  110.46  111.348433  14.281162       9.54  8.651567\n",
       "43344   103.0  106.982531  106.06   98.937965   3.982531       3.06  4.062035\n",
       "14684   102.0  105.469204   99.42  107.782552   3.469204       2.58  5.782552\n",
       "42965    89.0  100.900955   97.74   95.655964  11.900955       8.74  6.655964"
      ]
     },
     "execution_count": 24,
     "metadata": {},
     "output_type": "execute_result"
    }
   ],
   "source": [
    "Score_1.head(5)"
   ]
  },
  {
   "cell_type": "code",
   "execution_count": 25,
   "metadata": {},
   "outputs": [
    {
     "data": {
      "text/html": [
       "<div>\n",
       "<style scoped>\n",
       "    .dataframe tbody tr th:only-of-type {\n",
       "        vertical-align: middle;\n",
       "    }\n",
       "\n",
       "    .dataframe tbody tr th {\n",
       "        vertical-align: top;\n",
       "    }\n",
       "\n",
       "    .dataframe thead th {\n",
       "        text-align: right;\n",
       "    }\n",
       "</style>\n",
       "<table border=\"1\" class=\"dataframe\">\n",
       "  <thead>\n",
       "    <tr style=\"text-align: right;\">\n",
       "      <th></th>\n",
       "      <th>score2</th>\n",
       "      <th>LR_2</th>\n",
       "      <th>RDF_2</th>\n",
       "      <th>GB_2</th>\n",
       "      <th>LR_error</th>\n",
       "      <th>RDF_error</th>\n",
       "      <th>GB_error</th>\n",
       "    </tr>\n",
       "  </thead>\n",
       "  <tbody>\n",
       "    <tr>\n",
       "      <th>27060</th>\n",
       "      <td>83.0</td>\n",
       "      <td>102.070280</td>\n",
       "      <td>100.11</td>\n",
       "      <td>106.516508</td>\n",
       "      <td>19.070280</td>\n",
       "      <td>17.11</td>\n",
       "      <td>23.516508</td>\n",
       "    </tr>\n",
       "    <tr>\n",
       "      <th>31624</th>\n",
       "      <td>101.0</td>\n",
       "      <td>99.302433</td>\n",
       "      <td>103.19</td>\n",
       "      <td>104.516898</td>\n",
       "      <td>1.697567</td>\n",
       "      <td>2.19</td>\n",
       "      <td>3.516898</td>\n",
       "    </tr>\n",
       "    <tr>\n",
       "      <th>43344</th>\n",
       "      <td>91.0</td>\n",
       "      <td>98.717090</td>\n",
       "      <td>98.67</td>\n",
       "      <td>91.618694</td>\n",
       "      <td>7.717090</td>\n",
       "      <td>7.67</td>\n",
       "      <td>0.618694</td>\n",
       "    </tr>\n",
       "    <tr>\n",
       "      <th>14684</th>\n",
       "      <td>104.0</td>\n",
       "      <td>101.999830</td>\n",
       "      <td>94.96</td>\n",
       "      <td>104.650581</td>\n",
       "      <td>2.000170</td>\n",
       "      <td>9.04</td>\n",
       "      <td>0.650581</td>\n",
       "    </tr>\n",
       "    <tr>\n",
       "      <th>42965</th>\n",
       "      <td>92.0</td>\n",
       "      <td>103.975087</td>\n",
       "      <td>98.92</td>\n",
       "      <td>98.265596</td>\n",
       "      <td>11.975087</td>\n",
       "      <td>6.92</td>\n",
       "      <td>6.265596</td>\n",
       "    </tr>\n",
       "  </tbody>\n",
       "</table>\n",
       "</div>"
      ],
      "text/plain": [
       "       score2        LR_2   RDF_2        GB_2   LR_error  RDF_error   GB_error\n",
       "27060    83.0  102.070280  100.11  106.516508  19.070280      17.11  23.516508\n",
       "31624   101.0   99.302433  103.19  104.516898   1.697567       2.19   3.516898\n",
       "43344    91.0   98.717090   98.67   91.618694   7.717090       7.67   0.618694\n",
       "14684   104.0  101.999830   94.96  104.650581   2.000170       9.04   0.650581\n",
       "42965    92.0  103.975087   98.92   98.265596  11.975087       6.92   6.265596"
      ]
     },
     "execution_count": 25,
     "metadata": {},
     "output_type": "execute_result"
    }
   ],
   "source": [
    "Score_2.head(5)"
   ]
  },
  {
   "cell_type": "code",
   "execution_count": 26,
   "metadata": {},
   "outputs": [],
   "source": [
    "Score_1 = Score_1.iloc[:50]\n",
    "Score_2 = Score_2.iloc[:50]"
   ]
  },
  {
   "cell_type": "code",
   "execution_count": 27,
   "metadata": {},
   "outputs": [],
   "source": [
    "bar1 = Score_1.LR_error\n",
    "bar2 = Score_1.RDF_error\n",
    "bar3 = Score_1.GB_error"
   ]
  },
  {
   "cell_type": "code",
   "execution_count": 28,
   "metadata": {},
   "outputs": [],
   "source": [
    "barWidth = 0.25\n",
    "r1 = np.arange(len(bar1))\n",
    "r2 = [x + barWidth for x in r1]\n",
    "r3 = [x + barWidth for x in r2]\n",
    "r4 = [x + barWidth for x in r3]"
   ]
  },
  {
   "cell_type": "code",
   "execution_count": 32,
   "metadata": {},
   "outputs": [
    {
     "data": {
      "text/plain": [
       "<BarContainer object of 50 artists>"
      ]
     },
     "execution_count": 32,
     "metadata": {},
     "output_type": "execute_result"
    },
    {
     "data": {
      "image/png": "[encoded data removed]",
      "text/plain": [
       "<Figure size 1440x720 with 1 Axes>"
      ]
     },
     "metadata": {
      "needs_background": "light"
     },
     "output_type": "display_data"
    }
   ],
   "source": [
    "plt.figure(figsize=(20,10))\n",
    "plt.bar(r1, bar1, color='C0', width=barWidth, edgecolor='white', label='LR_error')\n",
    "plt.bar(r2, bar2, color='C1', width=barWidth, edgecolor='white', label='RDF_error')\n",
    "plt.bar(r3, bar3, color='C2', width=barWidth, edgecolor='white', label='GB_error')"
   ]
  },
  {
   "cell_type": "code",
   "execution_count": 30,
   "metadata": {},
   "outputs": [],
   "source": [
    "bar4 = Score_1.LR_error\n",
    "bar5 = Score_1.RDF_error\n",
    "bar6 = Score_1.GB_error"
   ]
  },
  {
   "cell_type": "code",
   "execution_count": 33,
   "metadata": {},
   "outputs": [
    {
     "data": {
      "text/plain": [
       "<BarContainer object of 50 artists>"
      ]
     },
     "execution_count": 33,
     "metadata": {},
     "output_type": "execute_result"
    },
    {
     "data": {
      "image/png": "[encoded data removed]",
      "text/plain": [
       "<Figure size 1440x720 with 1 Axes>"
      ]
     },
     "metadata": {
      "needs_background": "light"
     },
     "output_type": "display_data"
    }
   ],
   "source": [
    "plt.figure(figsize=(20,10))\n",
    "plt.bar(r1, bar4, color='C0', width=barWidth, edgecolor='white', label='LR_error')\n",
    "plt.bar(r2, bar5, color='C1', width=barWidth, edgecolor='white', label='RDF_error')\n",
    "plt.bar(r3, bar6, color='C2', width=barWidth, edgecolor='white', label='GB_error')"
   ]
  },
  {
   "cell_type": "markdown",
   "metadata": {},
   "source": [
    "# Conclusion:\n",
    "     For score1 regression:\n",
    "        1. Gradient Boosting\n",
    "        2. Random Forest\n",
    "        3. Linear Regression\n",
    "        \n",
    "     For score2 regression:\n",
    "        1. Gradient Boosting \n",
    "        2. Random Forest\n",
    "        3. Linear Regression \n",
    "     \n",
    "     For this project, gradient boosting regression model overperforms the rest two. \n",
    "     "
   ]
  },
  {
   "cell_type": "code",
   "execution_count": null,
   "metadata": {},
   "outputs": [],
   "source": []
  }
 ],
 "metadata": {
  "kernelspec": {
   "display_name": "Python 3",
   "language": "python",
   "name": "python3"
  },
  "language_info": {
   "codemirror_mode": {
    "name": "ipython",
    "version": 3
   },
   "file_extension": ".py",
   "mimetype": "text/x-python",
   "name": "python",
   "nbconvert_exporter": "python",
   "pygments_lexer": "ipython3",
   "version": "3.7.4"
  }
 },
 "nbformat": 4,
 "nbformat_minor": 2
}
